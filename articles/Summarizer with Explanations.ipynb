{
 "cells": [
  {
   "cell_type": "markdown",
   "metadata": {},
   "source": [
    "We perform extractive text summarization using the TextRank algorithm which uses a graph-based ranking model which requires no training, using GloVe v1.2 pre-trained word vectors, and performing various natural language preprocessing & tokenization using NLTK library.\n",
    "\n",
    "Graph based ranking algorithms allow knowledge about the text as a whole and the relationship between different parts of a text to be used in making specific local ranking decisions.  It does so by taking into account global information recursively computed from the entire graph in order to evaluate the importance of a vertex within a graph, rather than relying only on local information.\n",
    "\n",
    "Traditional word vector techniques depend on the distance or angle between pairs of word vectors to determine strength of a set  word representations.  Glove attempts to uncover more of the language structure by examining not only the scalar difference but various dimensions of difference.  It does this by examining the ratio of the co-occurance probability between pairings rather the just the probabilties themselves.  A weighted least squares regression is then applied to remove the noise.  Dimesionality reduction is applied to the co-occurance matrix to yield a lower dimensional matrix such that each vector represents a word."
   ]
  },
  {
   "cell_type": "code",
   "execution_count": 1,
   "metadata": {},
   "outputs": [],
   "source": [
    "import numpy as np\n",
    "import pandas as pd\n",
    "import nltk\n",
    "import re"
   ]
  },
  {
   "cell_type": "code",
   "execution_count": 2,
   "metadata": {},
   "outputs": [
    {
     "data": {
      "text/plain": [
       "['CHAPTER 2\\n\\nCaffeine, Jet Lag, and Melatonin\\nLosing and Gaining Control of Your Sleep Rhythm\\nHow does your body know when it’s time to sleep?',\n",
       " 'Why do you suffer from jet lag after arriving in a new time zone?',\n",
       " 'How do you overcome jet lag?',\n",
       " 'Why does that acclimatization cause you yet more jet lag upon returning home?',\n",
       " 'Why do some people use melatonin to combat these issues?']"
      ]
     },
     "execution_count": 2,
     "metadata": {},
     "output_type": "execute_result"
    }
   ],
   "source": [
    "from nltk.tokenize import sent_tokenize\n",
    "#article = open(\"../Text-Summarizer/articles/research paper.txt\", \"r\")\n",
    "\n",
    "#sentences = []\n",
    "\n",
    "with open(\"../Text-Summarizer/articles/Why We Sleep, Chp 2.txt\", \"r\") as myfile:\n",
    "    article=myfile.read()\n",
    "\n",
    "sentences = sent_tokenize(article)\n",
    "\n",
    "#for line in article:\n",
    "#    sentences.append(line.rstrip())\n",
    "sentences[:5]"
   ]
  },
  {
   "cell_type": "code",
   "execution_count": 3,
   "metadata": {
    "scrolled": true
   },
   "outputs": [
    {
     "name": "stdout",
     "output_type": "stream",
     "text": [
      "390\n"
     ]
    }
   ],
   "source": [
    "print(len(sentences))"
   ]
  },
  {
   "cell_type": "code",
   "execution_count": 4,
   "metadata": {},
   "outputs": [],
   "source": [
    "new_sentences = []\n",
    "for s in sentences:\n",
    "  new_sentences.append(sent_tokenize(s))\n",
    "\n",
    "new_sentences = [y for x in new_sentences for y in x] # flatten list"
   ]
  },
  {
   "cell_type": "code",
   "execution_count": 5,
   "metadata": {},
   "outputs": [
    {
     "data": {
      "text/plain": [
       "['CHAPTER 2\\n\\nCaffeine, Jet Lag, and Melatonin\\nLosing and Gaining Control of Your Sleep Rhythm\\nHow does your body know when it’s time to sleep?',\n",
       " 'Why do you suffer from jet lag after arriving in a new time zone?',\n",
       " 'How do you overcome jet lag?',\n",
       " 'Why does that acclimatization cause you yet more jet lag upon returning home?',\n",
       " 'Why do some people use melatonin to combat these issues?']"
      ]
     },
     "execution_count": 5,
     "metadata": {},
     "output_type": "execute_result"
    }
   ],
   "source": [
    "new_sentences[:5]"
   ]
  },
  {
   "cell_type": "code",
   "execution_count": 6,
   "metadata": {},
   "outputs": [],
   "source": [
    "# Extract word vectors\n",
    "word_embeddings = {}\n",
    "f = open('glove.6B.100d.txt', encoding='utf-8')\n",
    "for line in f:\n",
    "    values = line.split()\n",
    "    word = values[0]\n",
    "    coefs = np.asarray(values[1:], dtype='float32')\n",
    "    word_embeddings[word] = coefs\n",
    "f.close()"
   ]
  },
  {
   "cell_type": "code",
   "execution_count": 7,
   "metadata": {},
   "outputs": [],
   "source": [
    "# remove punctuations, numbers and special characters\n",
    "clean_sentences = pd.Series(new_sentences).str.replace(\"[^a-zA-Z]\", \" \")\n",
    "\n",
    "# make alphabets lowercase\n",
    "clean_sentences = [s.lower() for s in clean_sentences]"
   ]
  },
  {
   "cell_type": "code",
   "execution_count": 8,
   "metadata": {},
   "outputs": [
    {
     "name": "stdout",
     "output_type": "stream",
     "text": [
      "[nltk_data] Downloading package stopwords to\n",
      "[nltk_data]     C:\\Users\\jhsoo\\AppData\\Roaming\\nltk_data...\n",
      "[nltk_data]   Package stopwords is already up-to-date!\n"
     ]
    },
    {
     "data": {
      "text/plain": [
       "True"
      ]
     },
     "execution_count": 8,
     "metadata": {},
     "output_type": "execute_result"
    }
   ],
   "source": [
    "nltk.download('stopwords')\n"
   ]
  },
  {
   "cell_type": "code",
   "execution_count": 9,
   "metadata": {},
   "outputs": [],
   "source": [
    "from nltk.corpus import stopwords\n",
    "stop_words = stopwords.words('english')"
   ]
  },
  {
   "cell_type": "code",
   "execution_count": 10,
   "metadata": {},
   "outputs": [],
   "source": [
    "def remove_stopwords(sen):\n",
    "    sen_new = \" \".join([i for i in sen if i not in stop_words])\n",
    "    return sen_new"
   ]
  },
  {
   "cell_type": "code",
   "execution_count": 11,
   "metadata": {},
   "outputs": [],
   "source": [
    "clean_sentences = [remove_stopwords(r.split()) for r in clean_sentences]"
   ]
  },
  {
   "cell_type": "code",
   "execution_count": 12,
   "metadata": {},
   "outputs": [],
   "source": [
    "word_embeddings = {}\n",
    "f = open('glove.6B.100d.txt', encoding='utf-8')\n",
    "for line in f:\n",
    "    values = line.split()\n",
    "    word = values[0]\n",
    "    coefs = np.asarray(values[1:], dtype='float32')\n",
    "    word_embeddings[word] = coefs\n",
    "f.close()"
   ]
  },
  {
   "cell_type": "code",
   "execution_count": 13,
   "metadata": {},
   "outputs": [],
   "source": [
    "sentence_vectors = []\n",
    "for i in clean_sentences:\n",
    "  if len(i) != 0:\n",
    "    v = sum([word_embeddings.get(w, np.zeros((100,))) for w in i.split()])/(len(i.split())+0.001)\n",
    "  else:\n",
    "    v = np.zeros((100,))\n",
    "  sentence_vectors.append(v)"
   ]
  },
  {
   "cell_type": "code",
   "execution_count": 14,
   "metadata": {},
   "outputs": [],
   "source": [
    "for i in range(len(sentence_vectors)):\n",
    "    sentence_vectors[i] = sentence_vectors[i].reshape(1, 100)"
   ]
  },
  {
   "cell_type": "code",
   "execution_count": 15,
   "metadata": {},
   "outputs": [
    {
     "name": "stdout",
     "output_type": "stream",
     "text": [
      "390\n"
     ]
    }
   ],
   "source": [
    "print(len(sentence_vectors))"
   ]
  },
  {
   "cell_type": "code",
   "execution_count": 16,
   "metadata": {},
   "outputs": [],
   "source": [
    "sim_mat = np.zeros([len(sentences), len(sentences)])"
   ]
  },
  {
   "cell_type": "code",
   "execution_count": 17,
   "metadata": {},
   "outputs": [
    {
     "name": "stdout",
     "output_type": "stream",
     "text": [
      "(390, 390)\n"
     ]
    }
   ],
   "source": [
    "print(sim_mat.shape)"
   ]
  },
  {
   "cell_type": "code",
   "execution_count": 18,
   "metadata": {},
   "outputs": [],
   "source": [
    "from sklearn.metrics.pairwise import cosine_similarity\n"
   ]
  },
  {
   "cell_type": "markdown",
   "metadata": {},
   "source": [
    "Cosine similarity computes the similarity between vectors based on the degree of orthogonality between vectors where a cosine of 1 is identical and a cosine of 0 is orthogonality."
   ]
  },
  {
   "cell_type": "code",
   "execution_count": 19,
   "metadata": {},
   "outputs": [],
   "source": [
    "for i in range(len(sentences)):\n",
    "  for j in range(len(sentences)):\n",
    "    if i != j:\n",
    "      sim_mat[i][j] = cosine_similarity(sentence_vectors[i], sentence_vectors[j])[0,0]"
   ]
  },
  {
   "cell_type": "code",
   "execution_count": 20,
   "metadata": {},
   "outputs": [],
   "source": [
    "import networkx as nx\n",
    "\n",
    "nx_graph = nx.from_numpy_matrix(sim_mat)\n",
    "scores = nx.pagerank(nx_graph)"
   ]
  },
  {
   "cell_type": "code",
   "execution_count": 21,
   "metadata": {},
   "outputs": [],
   "source": [
    "ranked_sentences = sorted(((scores[i],s) for i,s in enumerate(sentences)), reverse=True)\n"
   ]
  },
  {
   "cell_type": "code",
   "execution_count": 22,
   "metadata": {
    "scrolled": false
   },
   "outputs": [
    {
     "name": "stdout",
     "output_type": "stream",
     "text": [
      "They are unable to function well at this time, one cause of which is that, despite being “awake,” their brain remains in a more sleep-like state throughout the early morning.\n",
      "\n",
      "The experimental question facing Kleitman and Richardson was simple: When cut off from the daily cycle of light and dark, would their biological rhythms of sleep and wakefulness, together with body temperature, become completely erratic, or would they stay the same as those individuals in the outside world exposed to rhythmic daylight?\n",
      "\n",
      "Let’s consider figure 7, showing the same forty-eight-hour slice of time and the two factors in question: the twenty-four-hour circadian rhythm and the sleep pressure signal of adenosine, and how much distance there is between them.\n",
      "\n",
      "If you look at figure 7 once again, the graveyard-shift misery you experience around six a.m. can be explained by the combination of high adenosine sleep pressure and your circadian rhythm reaching its lowest point.\n",
      "\n",
      "This is known as sleep pressure, and it is the second force that will determine when you feel sleepy, and thus should go to bed.\n",
      "\n",
      "Most people do not realize how long it takes to overcome a single dose of caffeine, and therefore fail to make the link between the bad night of sleep we wake from in the morning and the cup of coffee we had ten hours earlier with dinner.\n",
      "\n",
      "When these two processes trade places in the morning hours, wherein adenosine has been removed and the rousing volume of the circadian rhythm is becoming louder (indicated by the meeting of the two lines in figure 6), we naturally wake up (seven a.m. on day two, in the figure example).\n",
      "\n",
      "If I were to keep you awake all night, your core body temperature would still show the same pattern.\n",
      "\n",
      "Of course, even if you are giving yourself plenty of time to get a full night of shut-eye, next-day fatigue and sleepiness can still occur because you are suffering from an undiagnosed sleep disorder, of which there are now more than a hundred.\n",
      "\n",
      "I don’t advise anyone to conduct this self-experiment, but assessing a person’s alertness across twenty-four hours of total sleep deprivation is one way that scientists can demonstrate that the two forces determining when you want to be awake and asleep—the twenty-four-hour circadian rhythm and the sleepiness signal of adenosine—are independent, and can be decoupled from their normal lockstep.\n",
      "\n",
      "Sleep will not come easily or be smooth throughout the night as your brain continues its battle against the opposing force of caffeine.\n",
      "\n",
      "Therefore, when removed from the external influence of daylight, the internally generated “day” of each man was not exactly twenty-four hours, but a little more than that.\n",
      "\n",
      "The difference is simply that your heart’s pacemaker rhythm is far faster, usually beating at least once a second, rather than once every twenty-four-hour period like the circadian clock.\n",
      "\n",
      "This is jet lag: you feel tired and sleepy during the day in the new time zone because your body clock and associated biology still “think” it is nighttime.\n",
      "\n",
      "In general, these un-refreshed feelings that compel a person to fall back asleep midmorning, or require the boosting of alertness with caffeine, are usually due to individuals not giving themselves adequate sleep opportunity time—at least eight or nine hours in bed.\n",
      "\n",
      "Although the temperature drop helps to initiate sleep, the temperature change itself will rise and fall across the twenty-four-hour period regardless of whether you are awake or asleep.\n",
      "\n",
      "Somewhere within the plant was a twenty-four-hour rhythm generator that could track time without any cues from the outside world, such as daylight.\n",
      "\n",
      "First, the eastward direction requires that you fall asleep earlier than you would normally, which is a tall biological order for the mind to simply will into action.\n",
      "\n",
      "It is the balance between these two factors that dictates how alert and attentive you are during the day, when you will feel tired and ready for bed at night, and, in part, how well you will sleep.\n",
      "\n",
      "Though you will feel increasingly sleepy throughout the nighttime phase, hitting a low point in your alertness around five to six a.m., thereafter, you’ll catch a second wind.\n",
      "\n",
      "IN STEP, OUT OF STEP\n",
      "Setting caffeine aside for a moment, you may have assumed that the two governing forces that regulate your sleep—the twenty-four-hour circadian rhythm of the suprachiasmatic nucleus and the sleep-pressure signal of adenosine—communicate with each other so as to unite their influences.\n",
      "\n",
      "Like an inaccurate wristwatch whose time runs long, with each passing (real) day in the outside world, Kleitman and Richardson began to add time based on their longer, internally generated chronometry.\n",
      "\n",
      "Following that full night of sleep, you are now ready to face another sixteen hours of wakefulness with physical vigor and sharp brain function.\n",
      "\n",
      "Like a cold engine after an early-morning start, it takes a long time before it warms up to operating temperature, and before that will not function efficiently.\n",
      "\n",
      "Other questions that can draw out signs of insufficient sleep are: If you didn’t set an alarm clock, would you sleep past that time?\n",
      "\n",
      "My melatonin rise was still many hours away, back on California time.\n",
      "\n",
      "When you don’t get enough sleep, one consequence among many is that adenosine concentrations remain too high.\n",
      "\n",
      "Half a shot of caffeine is still plenty powerful, and much more decomposition work lies ahead throughout the night before caffeine disappears.\n",
      "\n",
      "(Or at least it should, so long as your sleep was of good quality and sufficient length the night before.\n",
      "\n",
      "Consequently, job performance of owls as a whole is far less optimal in the mornings, and they are further prevented from expressing their true performance potential in the late afternoon and early evening as standard work hours end prior to its arrival.\n",
      "\n",
      "It was from this darkness that Kleitman and Richardson were to illuminate a striking scientific finding that would define our biological rhythm as being approximately one day (circadian), and not precisely one day.\n",
      "\n",
      "Starting on the far left of the figure, the circadian rhythm begins to increase its activity a few hours before you wake up.\n",
      "\n",
      "Scientific evaluations of over-the-counter brands have found melatonin concentrations that range from 83 percent less than that claimed on the label, to 478 percent more than that stated.VI\n",
      "Once sleep is under way, melatonin slowly decreases in concentration across the night and into the morning hours.\n",
      "\n",
      "It will still be a struggle to generate the event of sleep itself at this irregular time (for me), but the timing signal does significantly increase the likelihood of sleep in this jet-lagged context.\n",
      "\n",
      "Eastward travel, however, which involves a “day” that is shorter in length for you than twenty-four hours, goes against the grain of your innately long internal rhythm to start with, which is why it is rather harder to do.\n",
      "\n",
      "Second, you will remember that when shut off from any outside world influences, our natural circadian rhythm is innately longer than one day—about twenty-four hours and fifteen minutes.\n",
      "\n",
      "The morning larks, on the other hand, would have retired for the night at nine p.m. and woken at five a.m. Consequently, the group as a whole is only collectively vulnerable (i.e., every person asleep) for just four rather than eight hours, despite everyone still getting the chance for eight hours of sleep.\n",
      "\n",
      "If you are trying to stay awake late into the night by drinking coffee, you should be prepared for a nasty consequence when your liver successfully evicts the caffeine from your system: a phenomenon commonly known as a “caffeine crash.” Like the batteries running down on a toy robot, your energy levels plummet rapidly.\n",
      "\n",
      "When you travel westward—in the direction of your innately longer internal clock—that “day” is longer than twenty-four hours for you and why it feels a little easier to accommodate to.\n",
      "\n",
      "No matter what state of adenosine sleepiness pressure exists within the brain, the twenty-four-hour circadian rhythm cycles on as per usual, oblivious to your ongoing lack of sleep.\n",
      "\n",
      "However, it created an unforeseen biological calamity: jet planes offered the ability to speed through time zones faster than our twenty-four-hour internal clocks could ever keep up with or adjust to.\n",
      "\n",
      "This behavior repeats each and every morning and evening, and it caused the famous evolutionary biologist Charles Darwin to call them “sleeping leaves.”\n",
      "Prior to de Mairan’s experiment, many believed that the expanding and retracting behavior of the plant was solely determined by the corresponding rising and setting of the sun.\n",
      "\n",
      "Unless you consume even more caffeine to push back against the weight of adenosine, which would start a dependency cycle, you are going to find it very, very difficult to remain awake.\n",
      "\n",
      "As melatonin rises, another phase of darkness is signaled and another sleep event is called to the starting line.\n",
      "\n",
      "If that were not bad enough, at night, we are frequently unable to initiate or maintain sleep because our internal clock now believes it to be daytime.\n",
      "\n",
      "If you feel as though you could fall asleep easily midmorning, you are very likely not getting enough sleep, or the quality of your sleep is insufficient.)\n",
      "\n",
      "Other studies of pilots, cabin crew members, and shift workers have reported additionally disquieting con\n",
      "sequences, including far higher rates of cancer and type 2 diabetes than the general population—or even carefully controlled match individuals who do not travel as much.\n",
      "\n",
      "I will drag my time-lagged brain and body through the London day in a state of deep lethargy.\n",
      "\n",
      "As a result, we feel tired and sleepy during the day in a distant time zone because our internal clock still thinks it is nighttime.\n",
      "\n",
      "The light of the sun methodically resets our inaccurate internal timepiece each and every day, “winding” us back to precisely, not approximately, twenty-four hours.IV\n",
      "It is no coincidence that the brain uses daylight for this resetting purpose.\n",
      "\n",
      "Represented by the solid line in figure 4, the longer you are awake, the more adenosine builds up, creating an increasing urge (pressure) to sleep.\n",
      "\n",
      "Surprisingly, it took another two hundred years to prove that we humans have a similar, internally generated circadian rhythm.\n",
      "\n",
      "Aging also alters the speed of caffeine clearance: the older we are, the longer it takes our brain and body to remove caffeine, and thus the more sensitive we become in later life to caffeine’s sleep-disrupting influence.\n",
      "\n",
      "As a result of that chemical sleep pressure, when adenosine concentrations peak, an irresistible urge for slumber will take hold.VII It happens to most people after twelve to sixteen hours of being awake.\n",
      "\n",
      "Then, it retracted its leaves as if on cue at the end of the day, even without the sun’s setting signal, and they stayed collapsed throughout the entire night.\n",
      "\n",
      "There are two main factors that determine when you want to sleep and when you want to be awake.\n",
      "\n",
      "In addition to food and water, the two men brought a host of measuring devices to assess their body temperatures, as well as their waking and sleeping rhythms.\n",
      "\n",
      "Since the birth of our planet, and every single day thereafter without fail, the sun has always risen in the morning and set in the evening.\n",
      "\n",
      "Using a clever dual-action effect, high concentrations of adenosine simultaneously turn down the “volume” of wake-promoting regions in the brain and turn up the dial on sleep-inducing regions.\n",
      "\n",
      "Since our innate biological rhythm is not precisely twenty-four hours, but thereabouts, a new nomenclature was required: the circadian rhythm—that is, one that is approximately, or around, one day in length, and not precisely one day.III In the seventy-plus years since Kleitman and Richardson’s seminal experiment, we have now determined that the average duration of a human adult’s endogenous circadian clock runs around twenty-four hours and fifteen minutes in length.\n",
      "\n",
      "It is time to call the race of sleep over and allow active wakefulness to return for the rest of the day.\n",
      "\n",
      "You may be wondering why Mother Nature would program this variability across people.\n",
      "\n",
      "Every aspect of my biology is demanding sleep; sleep that most people back in California are being swaddled in at this time.\n",
      "\n",
      "Here’s how it works: at around seven to eight p.m. London time I would take a melatonin pill, triggering an artificial rise in circulating melatonin that mimics the natural melatonin spike currently occurring in most of the people in London.\n",
      "\n",
      "The debt will roll over into the next payment cycle, and the next, and the next, producing a condition of prolonged, chronic sleep deprivation from one day to another.\n",
      "\n",
      "MY RHYTHM IS NOT YOUR RHYTHM\n",
      "Although every human being displays an unyielding twenty-four-hour pattern, the respective peak and trough points are strikingly different from one individual to the next.\n",
      "\n",
      "Setting aside the extreme case of sleep deprivation, how do you know whether you’re routinely getting enough sleep?\n",
      "\n",
      "First, he took the plant and placed it out in the open, exposing it to the signals of light and dark associated with day and night.\n",
      "\n",
      "Your biological circadian rhythm coordinates a drop in core body temperature as you near typical bedtime (figure 1), reaching its nadir, or low point, about two hours after sleep onset.\n",
      "\n",
      "This simply refers to the length of time it takes for the body to remove 50 percent of a drug’s concentration.\n",
      "\n",
      "The second unexpected—and more profound—result was that their reliably repeating cycles of wake and sleep were not precisely twenty-four hours in length, but consistently and undeniably longer than twenty-four hours.\n",
      "\n",
      "SLEEP PRESSURE AND CAFFEINE\n",
      "Your twenty-four-hour circadian rhythm is the first of the two factors determining wake and sleep.\n",
      "\n",
      "However, this temperature rhythm is not dependent upon whether you are actually asleep.\n",
      "\n",
      "Your brain is not aware of this rising tide of sleep-encouraging adenosine, however, because the wall of caffeine you’ve created is holding it back from your perception.\n",
      "\n",
      "In the event it helps, I have provided a link to a questionnaire that has been developed by sleep researchers that will allow you to determine your degree of sleep fulfillment.XI Called SATED, it is easy to complete, and contains only five simple questions.\n",
      "\n",
      "But melatonin has little influence on the generation of sleep itself: a mistaken assumption that many people hold.\n",
      "\n",
      "Mother Nature would never pass on a biological trait—here, the useful variability in when individuals within a collective tribe go to sleep and wake up—that could enhance the survival safety and thus fitness of a species by this amount.\n",
      "\n",
      "Melatonin acts like a powerful bullhorn, shouting out a clear message to the brain and body: “It’s dark, it’s dark!” At this moment, we have been served a writ of nightime, and with it, a biological command for the timing of sleep onset.V\n",
      "In this way, melatonin helps regulate the timing of when sleep occurs by systemically signaling darkness throughout the organism.\n",
      "\n",
      "The clock creates a cycling, day-night rhythm that makes you feel tired or alert at regular times of night and day, respectively.\n",
      "\n",
      "CHAPTER 2\n",
      "\n",
      "Caffeine, Jet Lag, and Melatonin\n",
      "Losing and Gaining Control of Your Sleep Rhythm\n",
      "How does your body know when it’s time to sleep?\n",
      "\n",
      "You will realize why I say this come chapter 14, but please feel free to skip right to the section on sleeping pills in that chapter if you are a current user, or considering using sleeping pills in the immediate future.\n",
      "\n",
      "Any signal that the brain uses for the purpose of clock resetting is termed a zeitgeber, from the German “time giver” or “synchronizer.” Thus, while light is the most reliable and thus the primary zeitgeber, there are many factors that can be used in addition to, or in the absence of, daylight.\n",
      "\n",
      "Its slow, rhythmic countenance continues to fall and rise strictly on the basis of what time of night or day it is.\n",
      "\n",
      "During these twenty-four hours of blackness, he would occasionally take a peek at the plant in controlled darkness, observing the state of the leaves.\n",
      "\n",
      "(Simple distraction is often the cause, but a lack of sleep is very much another culprit.)\n",
      "\n",
      "At night, you are frequently unable to sleep solidly because your biological rhythm still believes it to be daytime.\n",
      "\n",
      "So long as they are reliably repeating, the brain can also use other external cues, such as food, exercise, temperature fluctuations, and even regularly timed social interaction.\n",
      "\n",
      "It is no coincidence that the likelihood of breaking an Olympic record has been clearly tied to time of day, being maximal at the natural peak of the human circadian rhythm in the early afternoon.\n",
      "\n",
      "Central to many of the questions in the opening paragraph is the powerful sculpting force of your twenty-four-hour rhythm, also known as your circadian rhythm.\n",
      "\n",
      "They prefer to wake at or around dawn, are happy to do so, and function optimally at this time of day.\n",
      "\n",
      "Indeed, every living creature on the planet with a life span of more than several days generates this natural cycle.\n",
      "\n",
      "First, parts of their brains—specifically those related to learning and memory—had physically shrunk, suggesting the destruction of brain cells caused by the biological stress of time-zone travel.\n",
      "\n",
      "During sleep, a mass evacuation gets under way as the brain has the chance to degrade and remove the day’s adenosine.\n",
      "\n",
      "Indeed, the reason most living species likely adopted a circadian rhythm is to synchronize themselves and their activities, both internal (e.g., temperature) and external (e.g., feeding), with the daily orbital mechanics of planet Earth spinning on its axis, resulting in regular phases of light (sun facing) and dark (sun hiding).\n",
      "\n",
      "It will be five or six hours before my natural tendency to fall asleep arrives .\n",
      "\n",
      "The absence of circulating melatonin now informs the brain and body that the finish line of sleep has been reached.\n",
      "\n",
      "The larger the distance between the two, the greater your sleep desire.\n",
      "\n",
      "Despite being cut off from the influence of light during the day, the plant still behaved as though it were being bathed in sunlight; its leaves were proudly expanded.\n",
      "\n",
      "The first factor is a signal beamed out from your internal twenty-four-hour clock located deep within your brain.\n",
      "\n",
      "Sadly, after such epic efforts by my suprachiasmatic nucleus’s twenty-four-hour clock to drag itself forward in time and get settled in London, it faces some depressing news: I now have to fly back to San Francisco after nine days.\n",
      "\n",
      "When I arrive in England, despite the digital clock in London’s Heathrow Airport telling me it is nine a.m., my internal circadian clock is registering a very different time—California time, which is one a.m.\n",
      "\n",
      "Then, at the start of the following day, the leaves pop open once again like an umbrella, healthy as ever.\n",
      "\n",
      "For every day you are in a different time zone, your suprachiasmatic nucleus can only readjust by about one hour.\n",
      "\n",
      "First is the label of being lazy, based on a night owl’s wont to wake up later in the day, due to the fact that they did not fall asleep until the early-morning hours.\n",
      "\n",
      "Caffeine—which is not only prevalent in coffee, certain teas, and many energy drinks, but also foods such as dark chocolate and ice cream, as well as drugs such as weight-loss pills and pain relievers—is one of the most common culprits that keep people from falling asleep easily and sleeping soundly thereafter, typically masquerading as insomnia, an actual medical condition.\n",
      "\n",
      "The upshot is that you will feel much less sleepy at eleven a.m. than you did at three a.m., despite being awake for longer.\n",
      "\n",
      "It was a logical assumption: daylight (even on cloudy days) triggered the leaves to open wide, while ensuing darkness instructed the leaves to shut up shop, close for business, and fold away.\n",
      "\n",
      "But let’s imagine that I was going to use a legitimate compound of melatonin after arriving in London.\n",
      "\n",
      "Although the situation is improving, standard employment schedules force owls into an unnatural sleep-wake rhythm.\n",
      "\n",
      "It takes far longer for their system to eliminate the same amount of caffeine.\n",
      "\n",
      "The internal twenty-four-hour clock within your brain communicates its daily circadian rhythm signal to every other region of your brain and every organ in your body.\n",
      "\n",
      "Not too far off the twenty-four-hour rotation of the Earth, but not the precise timing that any self-respecting Swiss watchmaker would ever accept.\n",
      "\n",
      "The researchers noted how strikingly incapable the spiders were in constructing anything resembling a normal or logical web that would be of any functional use when given caffeine, even relative to other potent drugs tested.\n",
      "\n",
      "The consumption of caffeine represents one of the longest\n",
      "and largest unsupervised drug studies ever conducted on the human race, perhaps rivaled only by alcohol, and it continues to this day.\n",
      "\n",
      "All of these events have the ability to reset the biological clock, allowing it to strike a precise twenty-four-hour note.\n",
      "\n",
      "The suprachiasmatic nucleus uses this reliable light information to reset its inherent time inaccuracy to a crisp twenty-four-hour cycle, preventing any drift.\n",
      "\n",
      "West or east, jet lag still places a torturous physiological strain on the brain, and a deep biological stress upon the cells, organs, and major systems of the body.\n",
      "\n",
      "For example, at eleven a.m., after having woken up at eight a.m., there is only a small distance between the dotted line (circadian rhythm) and solid line (sleep pressure), illustrated by the vertical double arrow in figure 5.\n",
      "\n",
      "This means that by 1:30 a.m., 50 percent of that caffeine may still be active and circulating throughout your brain tissue.\n",
      "\n",
      "As the night of sleep deprivation marches forward, the sleep pressure of adenosine (upper line) rises progressively, like the rising water level in a plugged sink when a faucet has been left on.\n",
      "\n",
      "It cannot, since sleep is absent.\n",
      "\n",
      "This minimal difference means there is a weak sleep drive, and a strong urge to be awake and alert.\n",
      "\n",
      "You’ve now been awake for fifteen hours and your brain is drenched in high concentrations of adenosine (note how the solid line in the figure has risen sharply).\n",
      "\n",
      "The second is sleep pressure.\n",
      "\n",
      "The remaining 30 percent of people lie somewhere in between morning and evening types, with a slight leaning toward eveningness, like myself.\n",
      "\n",
      "De Mairan was intrigued by one plant in particular, called Mimosa pudica.II Not only do the leaves of this plant trace the arching daytime passage of the sun across the sky’s face, but at night, they collapse down, almost as though they had wilted.\n",
      "\n",
      "Long before we discovered this biological pacemaker, an ingenious experiment did something utterly remarkable: stopped time—at least, for a plant.\n",
      "\n",
      "If you have, and can remember much of anything about it, you may recall that there were times when you felt truly miserable and sleepy, yet there were other moments when, despite having been awake for longer, you paradoxically felt more alert.\n",
      "\n",
      "Your twenty-four-hour tempo helps to determine when you want to be awake and when you want to be asleep.\n",
      "\n",
      "The night owls in the group would not be going to sleep until one or two a.m., and not waking until nine or ten a.m.\n",
      "\n"
     ]
    }
   ],
   "source": [
    "#takes 33% of the most relevant content from the original article\n",
    "for i in range(int(len(sentence_vectors)*(1/3))):\n",
    "    print(ranked_sentences[i][1], end=\"\\n\\n\")"
   ]
  },
  {
   "cell_type": "code",
   "execution_count": null,
   "metadata": {},
   "outputs": [],
   "source": []
  }
 ],
 "metadata": {
  "kernelspec": {
   "display_name": "Python 3",
   "language": "python",
   "name": "python3"
  },
  "language_info": {
   "codemirror_mode": {
    "name": "ipython",
    "version": 3
   },
   "file_extension": ".py",
   "mimetype": "text/x-python",
   "name": "python",
   "nbconvert_exporter": "python",
   "pygments_lexer": "ipython3",
   "version": "3.7.0"
  }
 },
 "nbformat": 4,
 "nbformat_minor": 2
}
